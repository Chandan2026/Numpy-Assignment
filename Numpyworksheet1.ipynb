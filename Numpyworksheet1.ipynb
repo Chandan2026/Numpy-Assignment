{
 "cells": [
  {
   "cell_type": "code",
   "execution_count": 1,
   "id": "15e53897",
   "metadata": {},
   "outputs": [],
   "source": [
    "import numpy as np"
   ]
  },
  {
   "cell_type": "markdown",
   "id": "810e02fb",
   "metadata": {},
   "source": [
    "###Create a null vector of size 10 but the fifth value which is 1."
   ]
  },
  {
   "cell_type": "code",
   "execution_count": 5,
   "id": "e816df7f",
   "metadata": {},
   "outputs": [
    {
     "name": "stdout",
     "output_type": "stream",
     "text": [
      "[0. 0. 0. 0. 1. 0. 0. 0. 0. 0.]\n"
     ]
    }
   ],
   "source": [
    "x=np.zeros(10)\n",
    "x[4]=1\n",
    "print(x)"
   ]
  },
  {
   "cell_type": "markdown",
   "id": "989492dc",
   "metadata": {},
   "source": [
    "###Create a vector with values ranging from 10 to 49."
   ]
  },
  {
   "cell_type": "code",
   "execution_count": 7,
   "id": "c148c989",
   "metadata": {},
   "outputs": [
    {
     "data": {
      "text/plain": [
       "array([10, 11, 12, 13, 14, 15, 16, 17, 18, 19, 20, 21, 22, 23, 24, 25, 26,\n",
       "       27, 28, 29, 30, 31, 32, 33, 34, 35, 36, 37, 38, 39, 40, 41, 42, 43,\n",
       "       44, 45, 46, 47, 48, 49])"
      ]
     },
     "execution_count": 7,
     "metadata": {},
     "output_type": "execute_result"
    }
   ],
   "source": [
    "np.arange(10,50)"
   ]
  },
  {
   "cell_type": "markdown",
   "id": "a280e026",
   "metadata": {},
   "source": [
    "###Create a 3x3 matrix with values ranging from 0 to 8"
   ]
  },
  {
   "cell_type": "code",
   "execution_count": 10,
   "id": "2a00df62",
   "metadata": {},
   "outputs": [
    {
     "data": {
      "text/plain": [
       "array([[3, 0, 2],\n",
       "       [5, 6, 4],\n",
       "       [5, 4, 4]])"
      ]
     },
     "execution_count": 10,
     "metadata": {},
     "output_type": "execute_result"
    }
   ],
   "source": [
    "np.random.randint(0,9,(3,3))"
   ]
  },
  {
   "cell_type": "markdown",
   "id": "3238e84e",
   "metadata": {},
   "source": [
    "###Find indices of non-zero elements from [1,2,0,0,4,0]"
   ]
  },
  {
   "cell_type": "code",
   "execution_count": 12,
   "id": "f47e1941",
   "metadata": {},
   "outputs": [
    {
     "name": "stdout",
     "output_type": "stream",
     "text": [
      "(array([0, 1, 4], dtype=int64),)\n"
     ]
    }
   ],
   "source": [
    "y=np.nonzero([1,2,0,0,4,0])\n",
    "print(y)"
   ]
  },
  {
   "cell_type": "markdown",
   "id": "0e1e3113",
   "metadata": {},
   "source": [
    " ###Create a 10x10 array with random values and find the minimum and maximum values"
   ]
  },
  {
   "cell_type": "code",
   "execution_count": 15,
   "id": "a3049019",
   "metadata": {},
   "outputs": [
    {
     "data": {
      "text/plain": [
       "array([[0.76074555, 0.13128525, 0.34990459, 0.13494108, 0.09257862,\n",
       "        0.71410996, 0.48398317, 0.59318482, 0.05042232, 0.65085858],\n",
       "       [0.80535576, 0.46195767, 0.57141481, 0.22437546, 0.4630478 ,\n",
       "        0.7888496 , 0.48805307, 0.85366856, 0.00992332, 0.75807566],\n",
       "       [0.20824946, 0.41888566, 0.68612505, 0.55222027, 0.08756233,\n",
       "        0.13184258, 0.02755171, 0.55270133, 0.17119945, 0.45967344],\n",
       "       [0.10171506, 0.56315041, 0.22808801, 0.27435831, 0.68071209,\n",
       "        0.42449201, 0.64477857, 0.34214119, 0.24014843, 0.65984934],\n",
       "       [0.69434082, 0.00724805, 0.99458406, 0.21381292, 0.32885358,\n",
       "        0.08424297, 0.05665376, 0.14536372, 0.20688437, 0.13213161],\n",
       "       [0.89912563, 0.63311518, 0.29965958, 0.41062702, 0.0599283 ,\n",
       "        0.71462688, 0.41599943, 0.52968288, 0.23518522, 0.01786215],\n",
       "       [0.25911877, 0.77838026, 0.49942   , 0.69567157, 0.49376383,\n",
       "        0.40709163, 0.53585573, 0.18875975, 0.61224898, 0.7301402 ],\n",
       "       [0.2401018 , 0.14151532, 0.62707464, 0.14526091, 0.86801601,\n",
       "        0.39324275, 0.83496118, 0.78203573, 0.39406132, 0.87203103],\n",
       "       [0.91248865, 0.28622514, 0.59788301, 0.11228612, 0.4870848 ,\n",
       "        0.23988656, 0.80695832, 0.02026208, 0.18226372, 0.92627167],\n",
       "       [0.11495602, 0.58418184, 0.98556187, 0.52874601, 0.11626078,\n",
       "        0.92588456, 0.86878513, 0.17007843, 0.78989132, 0.0714375 ]])"
      ]
     },
     "execution_count": 15,
     "metadata": {},
     "output_type": "execute_result"
    }
   ],
   "source": [
    "x=np.random.rand(10,10)\n",
    "x\n"
   ]
  },
  {
   "cell_type": "code",
   "execution_count": 16,
   "id": "9719a8dd",
   "metadata": {},
   "outputs": [
    {
     "data": {
      "text/plain": [
       "0.007248047039750571"
      ]
     },
     "execution_count": 16,
     "metadata": {},
     "output_type": "execute_result"
    }
   ],
   "source": [
    "x.min()"
   ]
  },
  {
   "cell_type": "code",
   "execution_count": 17,
   "id": "16677634",
   "metadata": {},
   "outputs": [
    {
     "data": {
      "text/plain": [
       "0.9945840591455996"
      ]
     },
     "execution_count": 17,
     "metadata": {},
     "output_type": "execute_result"
    }
   ],
   "source": [
    "x.max()"
   ]
  },
  {
   "cell_type": "markdown",
   "id": "7e64938a",
   "metadata": {},
   "source": [
    "###Create a random vector of size 30 and find the mean value"
   ]
  },
  {
   "cell_type": "code",
   "execution_count": 19,
   "id": "0368315e",
   "metadata": {},
   "outputs": [
    {
     "data": {
      "text/plain": [
       "array([0.98574381, 0.9827937 , 0.95751733, 0.6585915 , 0.14264946,\n",
       "       0.60307227, 0.06579507, 0.59556071, 0.37493218, 0.90743928,\n",
       "       0.82732665, 0.76926265, 0.66914605, 0.21228254, 0.14378654,\n",
       "       0.29854795, 0.29268388, 0.37996387, 0.82084693, 0.39095978,\n",
       "       0.6253771 , 0.72334834, 0.52304508, 0.02214125, 0.76006695,\n",
       "       0.22053786, 0.07723455, 0.19037223, 0.83381197, 0.72955142])"
      ]
     },
     "execution_count": 19,
     "metadata": {},
     "output_type": "execute_result"
    }
   ],
   "source": [
    "p=np.random.rand(30)\n",
    "p"
   ]
  },
  {
   "cell_type": "code",
   "execution_count": 20,
   "id": "bc44641e",
   "metadata": {},
   "outputs": [
    {
     "data": {
      "text/plain": [
       "0.5261462963709932"
      ]
     },
     "execution_count": 20,
     "metadata": {},
     "output_type": "execute_result"
    }
   ],
   "source": [
    "p.mean()"
   ]
  },
  {
   "cell_type": "code",
   "execution_count": null,
   "id": "f54d7338",
   "metadata": {},
   "outputs": [],
   "source": []
  }
 ],
 "metadata": {
  "kernelspec": {
   "display_name": "Python 3",
   "language": "python",
   "name": "python3"
  },
  "language_info": {
   "codemirror_mode": {
    "name": "ipython",
    "version": 3
   },
   "file_extension": ".py",
   "mimetype": "text/x-python",
   "name": "python",
   "nbconvert_exporter": "python",
   "pygments_lexer": "ipython3",
   "version": "3.8.8"
  }
 },
 "nbformat": 4,
 "nbformat_minor": 5
}
